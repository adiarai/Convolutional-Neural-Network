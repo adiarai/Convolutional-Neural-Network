{
 "cells": [
  {
   "cell_type": "markdown",
   "id": "fef52ed2",
   "metadata": {},
   "source": [
    "# Project: Create a Convolutional Neural Network\n",
    "We will create a model on the CIFAR-10 dataset\n",
    "# Step 1: Import libraries"
   ]
  },
  {
   "cell_type": "code",
   "execution_count": 19,
   "id": "5fe10da5",
   "metadata": {},
   "outputs": [],
   "source": [
    "import tensorflow as tf \n",
    "from tensorflow.keras import datasets,layers,models \n",
    "from PIL import Image \n",
    "import matplotlib.pyplot as plt \n",
    "%matplotlib inline "
   ]
  },
  {
   "cell_type": "code",
   "execution_count": null,
   "id": "3c081861",
   "metadata": {},
   "outputs": [],
   "source": []
  },
  {
   "cell_type": "markdown",
   "id": "61d58d38",
   "metadata": {},
   "source": [
    "# Step 2: Download the CIFAR10 dataset\n",
    "Excute the cell below"
   ]
  },
  {
   "cell_type": "code",
   "execution_count": 20,
   "id": "f77d18d0",
   "metadata": {},
   "outputs": [],
   "source": [
    "(train_images,train_labels),(test_images,test_labels)=datasets.cifar10.load_data() "
   ]
  },
  {
   "cell_type": "code",
   "execution_count": null,
   "id": "347f43bb",
   "metadata": {},
   "outputs": [],
   "source": []
  },
  {
   "cell_type": "markdown",
   "id": "e59f0855",
   "metadata": {},
   "source": [
    "# Step 3: Normalize the pixels\n",
    "Divide the train_images and test_images with 255 to normalize them between 0 and 1."
   ]
  },
  {
   "cell_type": "code",
   "execution_count": null,
   "id": "c75de68b",
   "metadata": {},
   "outputs": [],
   "source": [
    "train_images=train_images/255.0 \n",
    "test_images=test_images/255.0 "
   ]
  },
  {
   "cell_type": "code",
   "execution_count": null,
   "id": "2a7ab9ea",
   "metadata": {},
   "outputs": [],
   "source": []
  },
  {
   "cell_type": "markdown",
   "id": "b9372308",
   "metadata": {},
   "source": [
    "# Step 4: Get the class names of the labels\n",
    "Make a class name conversion.\n",
    "HINT: make a list with the name class_names = ['airplane', 'automobile', 'bird', 'cat', 'deer', 'dog', 'frog', 'horse', 'ship', 'truck']\n",
    "How to use the name conversion.\n",
    "class_names[int(train_labels[index])]\n",
    "How to show an image\n",
    "plt.imshow(train_images[index])"
   ]
  },
  {
   "cell_type": "code",
   "execution_count": 21,
   "id": "6ab9fb0b",
   "metadata": {},
   "outputs": [],
   "source": [
    "class_names=['airplane','automobile','bird','cat','deer','dog','frog','horse', 'ship', 'truck']"
   ]
  },
  {
   "cell_type": "code",
   "execution_count": 22,
   "id": "c4920748",
   "metadata": {},
   "outputs": [
    {
     "data": {
      "text/plain": [
       "'truck'"
      ]
     },
     "execution_count": 22,
     "metadata": {},
     "output_type": "execute_result"
    },
    {
     "data": {
      "image/png": "[encoded data removed]",
      "text/plain": [
       "<Figure size 640x480 with 1 Axes>"
      ]
     },
     "metadata": {},
     "output_type": "display_data"
    }
   ],
   "source": [
    "index=2\n",
    "plt.imshow(train_images[index]) \n",
    "class_names[int(train_labels[index])]\n"
   ]
  },
  {
   "cell_type": "markdown",
   "id": "1d28a6fb",
   "metadata": {},
   "source": [
    "# Step 5: Create a model\n",
    "Create a Sequential model\n",
    "Conv2D with 32 and (3, 3), activation='relu', input_shape=(32, 32, 3)\n",
    "MaxPooling2D with (2, 2)\n",
    "Conv2D with 64 and (3, 3), activation='relu'\n",
    "MaxPooling2D with (2, 2)\n",
    "Conv2D with 64 and (3, 3), activation='relu'\n",
    "Flatten\n",
    "Dense with 64 nodes with input_dim=4, activaition='relu'\n",
    "Dense with 10 (the output node)**\n",
    "Complie the model with optimizer='adam', loss=tf.keras.losses.SparseCategoricalCrossentropy(from_logits=True), metrics=['accuracy']"
   ]
  },
  {
   "cell_type": "code",
   "execution_count": 23,
   "id": "004028ea",
   "metadata": {},
   "outputs": [],
   "source": [
    "model=models.Sequential() \n",
    "model.add(layers.Conv2D(32,(3,3),activation='relu',input_shape=(32,32,3)))\n",
    "model.add(layers.MaxPooling2D((2,2))) \n",
    "model.add(layers.Conv2D(64,(3,3),activation='relu'))\n",
    "model.add(layers.MaxPooling2D((2,2))) \n",
    "model.add(layers.Conv2D(64,(3,3),activation='relu')) \n",
    "model.add(layers.Flatten()) \n",
    "model.add(layers.Dense(64,input_dim=4,activation='relu')) \n",
    "model.add(layers.Dense(10)) \n",
    "model.compile(optimizer='adam', loss=tf.keras.losses.SparseCategoricalCrossentropy(from_logits=True), metrics=['accuracy'])"
   ]
  },
  {
   "cell_type": "code",
   "execution_count": null,
   "id": "7e0f909b",
   "metadata": {},
   "outputs": [],
   "source": []
  },
  {
   "cell_type": "markdown",
   "id": "58a5074d",
   "metadata": {},
   "source": [
    "# Step 6: Train the model\n",
    "Fit the model with train_images, train_labels, epochs=10 and validation_data=(test_images, test_labels)"
   ]
  },
  {
   "cell_type": "code",
   "execution_count": 25,
   "id": "26578969",
   "metadata": {},
   "outputs": [
    {
     "name": "stdout",
     "output_type": "stream",
     "text": [
      "Epoch 1/10\n",
      "1563/1563 [==============================] - 59s 37ms/step - loss: 1.6927 - accuracy: 0.4090 - val_loss: 1.3649 - val_accuracy: 0.5042\n",
      "Epoch 2/10\n",
      "1563/1563 [==============================] - 58s 37ms/step - loss: 1.3000 - accuracy: 0.5381 - val_loss: 1.2824 - val_accuracy: 0.5477\n",
      "Epoch 3/10\n",
      "1563/1563 [==============================] - 57s 37ms/step - loss: 1.1545 - accuracy: 0.5931 - val_loss: 1.1233 - val_accuracy: 0.6110\n",
      "Epoch 4/10\n",
      "1563/1563 [==============================] - 58s 37ms/step - loss: 1.0500 - accuracy: 0.6332 - val_loss: 1.1177 - val_accuracy: 0.6062\n",
      "Epoch 5/10\n",
      "1563/1563 [==============================] - 60s 39ms/step - loss: 0.9667 - accuracy: 0.6637 - val_loss: 1.0636 - val_accuracy: 0.6430\n",
      "Epoch 6/10\n",
      "1563/1563 [==============================] - 59s 38ms/step - loss: 0.9071 - accuracy: 0.6868 - val_loss: 1.0262 - val_accuracy: 0.6602\n",
      "Epoch 7/10\n",
      "1563/1563 [==============================] - 58s 37ms/step - loss: 0.8517 - accuracy: 0.7061 - val_loss: 1.0596 - val_accuracy: 0.6462\n",
      "Epoch 8/10\n",
      "1563/1563 [==============================] - 58s 37ms/step - loss: 0.8032 - accuracy: 0.7235 - val_loss: 1.0476 - val_accuracy: 0.6578\n",
      "Epoch 9/10\n",
      "1563/1563 [==============================] - 58s 37ms/step - loss: 0.7597 - accuracy: 0.7355 - val_loss: 1.0563 - val_accuracy: 0.6531\n",
      "Epoch 10/10\n",
      "1563/1563 [==============================] - 58s 37ms/step - loss: 0.7190 - accuracy: 0.7528 - val_loss: 1.0526 - val_accuracy: 0.6611\n"
     ]
    },
    {
     "data": {
      "text/plain": [
       "<keras.callbacks.History at 0x22d65cf9340>"
      ]
     },
     "execution_count": 25,
     "metadata": {},
     "output_type": "execute_result"
    }
   ],
   "source": [
    "model.fit(train_images, train_labels, epochs=10,validation_data=(test_images, test_labels))\n",
    "          \n"
   ]
  },
  {
   "cell_type": "code",
   "execution_count": null,
   "id": "79fc6ce7",
   "metadata": {},
   "outputs": [],
   "source": []
  },
  {
   "cell_type": "markdown",
   "id": "48853b6e",
   "metadata": {},
   "source": [
    "# Stpe 7: Test the model\n",
    "Make predictions\n",
    "assign the predictions of test_images to a variable\n",
    "How to test visually\n",
    "Assign index=0\n",
    "Plot the image with plt.imshow(test_images[index])\n",
    "See the label from prediction by mapping it from class_names"
   ]
  },
  {
   "cell_type": "code",
   "execution_count": 26,
   "id": "8d59e912",
   "metadata": {},
   "outputs": [
    {
     "name": "stdout",
     "output_type": "stream",
     "text": [
      "313/313 [==============================] - 4s 14ms/step\n"
     ]
    }
   ],
   "source": [
    "y_pred=model.predict(test_images) \n"
   ]
  },
  {
   "cell_type": "code",
   "execution_count": 30,
   "id": "543f7a7e",
   "metadata": {},
   "outputs": [
    {
     "data": {
      "text/plain": [
       "'ship'"
      ]
     },
     "execution_count": 30,
     "metadata": {},
     "output_type": "execute_result"
    },
    {
     "data": {
      "image/png": "[encoded data removed]",
      "text/plain": [
       "<Figure size 640x480 with 1 Axes>"
      ]
     },
     "metadata": {},
     "output_type": "display_data"
    }
   ],
   "source": [
    "index=2\n",
    "plt.imshow(test_images[index])\n",
    "class_names[y_pred[index].argmax()]\n"
   ]
  },
  {
   "cell_type": "code",
   "execution_count": 32,
   "id": "cc950a0e",
   "metadata": {},
   "outputs": [
    {
     "data": {
      "text/plain": [
       "[1.0525798797607422, 0.6610999703407288]"
      ]
     },
     "execution_count": 32,
     "metadata": {},
     "output_type": "execute_result"
    }
   ],
   "source": [
    "model.evaluate(test_images,test_labels,verbose=0)"
   ]
  },
  {
   "cell_type": "markdown",
   "id": "98dc47f9",
   "metadata": {},
   "source": [
    "# Step 8 (Optional): Improve the model\n",
    "Try to play around with the model to improve the score"
   ]
  },
  {
   "cell_type": "code",
   "execution_count": null,
   "id": "113d77a3",
   "metadata": {},
   "outputs": [],
   "source": []
  },
  {
   "cell_type": "code",
   "execution_count": null,
   "id": "aa1bbd02",
   "metadata": {},
   "outputs": [],
   "source": [
    "\n"
   ]
  }
 ],
 "metadata": {
  "kernelspec": {
   "display_name": "Python 3 (ipykernel)",
   "language": "python",
   "name": "python3"
  },
  "language_info": {
   "codemirror_mode": {
    "name": "ipython",
    "version": 3
   },
   "file_extension": ".py",
   "mimetype": "text/x-python",
   "name": "python",
   "nbconvert_exporter": "python",
   "pygments_lexer": "ipython3",
   "version": "3.9.13"
  },
  "varInspector": {
   "cols": {
    "lenName": 16,
    "lenType": 16,
    "lenVar": 40
   },
   "kernels_config": {
    "python": {
     "delete_cmd_postfix": "",
     "delete_cmd_prefix": "del ",
     "library": "var_list.py",
     "varRefreshCmd": "print(var_dic_list())"
    },
    "r": {
     "delete_cmd_postfix": ") ",
     "delete_cmd_prefix": "rm(",
     "library": "var_list.r",
     "varRefreshCmd": "cat(var_dic_list()) "
    }
   },
   "types_to_exclude": [
    "module",
    "function",
    "builtin_function_or_method",
    "instance",
    "_Feature"
   ],
   "window_display": false
  }
 },
 "nbformat": 4,
 "nbformat_minor": 5
}
